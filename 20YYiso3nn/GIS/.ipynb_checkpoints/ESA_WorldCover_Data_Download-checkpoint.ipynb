{
 "cells": [
  {
   "cell_type": "markdown",
   "metadata": {},
   "source": [
    "# Downloading ESA WorldCover 2021 dataset"
   ]
  },
  {
   "cell_type": "markdown",
   "metadata": {},
   "source": [
    "This notebook uses the [STAC](stacspec.org/) api from terrascope to search the data ready for download, the process is as follow:\n",
    "\n",
    "- Set bbox base in the country polygon\n",
    "- Query the STAC api using the bbox\n",
    "- Use the asset information to find and download the require .tif file(s)\n",
    "\n",
    "Resources:\n",
    "\n",
    "- connect awscli to google colab: https://medium.com/@lily_su/accessing-s3-bucket-from-google-colab-16f7ee6c5b51"
   ]
  },
  {
   "cell_type": "markdown",
   "metadata": {},
   "source": [
    "## Install requirements\n",
    "This will take between 2 and 5 minutes depending on connection"
   ]
  },
  {
   "cell_type": "code",
   "execution_count": 6,
   "metadata": {
    "scrolled": true
   },
   "outputs": [
    {
     "name": "stderr",
     "output_type": "stream",
     "text": [
      "\n",
      "[notice] A new release of pip available: 22.3.1 -> 23.1.2\n",
      "[notice] To update, run: C:\\Users\\MapAction\\AppData\\Local\\ESRI\\conda\\envs\\mapaction-arc-py3\\python.exe -m pip install --upgrade pip\n"
     ]
    },
    {
     "name": "stdout",
     "output_type": "stream",
     "text": [
      "Requirement already satisfied: pystac-client in c:\\users\\mapaction\\appdata\\local\\esri\\conda\\envs\\mapaction-arc-py3\\lib\\site-packages (0.6.1)\n",
      "Requirement already satisfied: odc-cloud[ASYNC] in c:\\users\\mapaction\\appdata\\local\\esri\\conda\\envs\\mapaction-arc-py3\\lib\\site-packages (0.2.3)\n",
      "Requirement already satisfied: pystac>=1.7.0 in c:\\users\\mapaction\\appdata\\local\\esri\\conda\\envs\\mapaction-arc-py3\\lib\\site-packages (from pystac-client) (1.7.3)\n",
      "Requirement already satisfied: requests>=2.27.1 in c:\\users\\mapaction\\appdata\\local\\esri\\conda\\envs\\mapaction-arc-py3\\lib\\site-packages (from pystac-client) (2.27.1)\n",
      "Requirement already satisfied: python-dateutil>=2.7.0 in c:\\users\\mapaction\\appdata\\local\\esri\\conda\\envs\\mapaction-arc-py3\\lib\\site-packages (from pystac-client) (2.8.2)\n",
      "Requirement already satisfied: botocore in c:\\users\\mapaction\\appdata\\local\\esri\\conda\\envs\\mapaction-arc-py3\\lib\\site-packages (from odc-cloud[ASYNC]) (1.29.76)\n",
      "Requirement already satisfied: boto3 in c:\\users\\mapaction\\appdata\\local\\esri\\conda\\envs\\mapaction-arc-py3\\lib\\site-packages (from odc-cloud[ASYNC]) (1.26.76)\n",
      "Requirement already satisfied: aiobotocore[boto3]>=1.0 in c:\\users\\mapaction\\appdata\\local\\esri\\conda\\envs\\mapaction-arc-py3\\lib\\site-packages (from odc-cloud[ASYNC]) (2.5.0)\n",
      "Requirement already satisfied: aioitertools>=0.5.1 in c:\\users\\mapaction\\appdata\\local\\esri\\conda\\envs\\mapaction-arc-py3\\lib\\site-packages (from aiobotocore[boto3]>=1.0->odc-cloud[ASYNC]) (0.11.0)\n",
      "Requirement already satisfied: wrapt>=1.10.10 in c:\\users\\mapaction\\appdata\\local\\esri\\conda\\envs\\mapaction-arc-py3\\lib\\site-packages (from aiobotocore[boto3]>=1.0->odc-cloud[ASYNC]) (1.13.3)\n",
      "Requirement already satisfied: aiohttp>=3.3.1 in c:\\users\\mapaction\\appdata\\local\\esri\\conda\\envs\\mapaction-arc-py3\\lib\\site-packages (from aiobotocore[boto3]>=1.0->odc-cloud[ASYNC]) (3.8.4)\n",
      "Requirement already satisfied: s3transfer<0.7.0,>=0.6.0 in c:\\users\\mapaction\\appdata\\local\\esri\\conda\\envs\\mapaction-arc-py3\\lib\\site-packages (from boto3->odc-cloud[ASYNC]) (0.6.1)\n",
      "Requirement already satisfied: jmespath<2.0.0,>=0.7.1 in c:\\users\\mapaction\\appdata\\local\\esri\\conda\\envs\\mapaction-arc-py3\\lib\\site-packages (from boto3->odc-cloud[ASYNC]) (1.0.1)\n",
      "Requirement already satisfied: urllib3<1.27,>=1.25.4 in c:\\users\\mapaction\\appdata\\local\\esri\\conda\\envs\\mapaction-arc-py3\\lib\\site-packages (from botocore->odc-cloud[ASYNC]) (1.26.8)\n",
      "Requirement already satisfied: six>=1.5 in c:\\users\\mapaction\\appdata\\local\\esri\\conda\\envs\\mapaction-arc-py3\\lib\\site-packages (from python-dateutil>=2.7.0->pystac-client) (1.16.0)\n",
      "Requirement already satisfied: certifi>=2017.4.17 in c:\\users\\mapaction\\appdata\\local\\esri\\conda\\envs\\mapaction-arc-py3\\lib\\site-packages (from requests>=2.27.1->pystac-client) (2021.10.8)\n",
      "Requirement already satisfied: idna<4,>=2.5 in c:\\users\\mapaction\\appdata\\local\\esri\\conda\\envs\\mapaction-arc-py3\\lib\\site-packages (from requests>=2.27.1->pystac-client) (3.3)\n",
      "Requirement already satisfied: charset-normalizer~=2.0.0 in c:\\users\\mapaction\\appdata\\local\\esri\\conda\\envs\\mapaction-arc-py3\\lib\\site-packages (from requests>=2.27.1->pystac-client) (2.0.4)\n",
      "Requirement already satisfied: attrs>=17.3.0 in c:\\users\\mapaction\\appdata\\local\\esri\\conda\\envs\\mapaction-arc-py3\\lib\\site-packages (from aiohttp>=3.3.1->aiobotocore[boto3]>=1.0->odc-cloud[ASYNC]) (21.4.0)\n",
      "Requirement already satisfied: aiosignal>=1.1.2 in c:\\users\\mapaction\\appdata\\local\\esri\\conda\\envs\\mapaction-arc-py3\\lib\\site-packages (from aiohttp>=3.3.1->aiobotocore[boto3]>=1.0->odc-cloud[ASYNC]) (1.3.1)\n",
      "Requirement already satisfied: async-timeout<5.0,>=4.0.0a3 in c:\\users\\mapaction\\appdata\\local\\esri\\conda\\envs\\mapaction-arc-py3\\lib\\site-packages (from aiohttp>=3.3.1->aiobotocore[boto3]>=1.0->odc-cloud[ASYNC]) (4.0.2)\n",
      "Requirement already satisfied: frozenlist>=1.1.1 in c:\\users\\mapaction\\appdata\\local\\esri\\conda\\envs\\mapaction-arc-py3\\lib\\site-packages (from aiohttp>=3.3.1->aiobotocore[boto3]>=1.0->odc-cloud[ASYNC]) (1.3.3)\n",
      "Requirement already satisfied: yarl<2.0,>=1.0 in c:\\users\\mapaction\\appdata\\local\\esri\\conda\\envs\\mapaction-arc-py3\\lib\\site-packages (from aiohttp>=3.3.1->aiobotocore[boto3]>=1.0->odc-cloud[ASYNC]) (1.9.2)\n",
      "Requirement already satisfied: multidict<7.0,>=4.5 in c:\\users\\mapaction\\appdata\\local\\esri\\conda\\envs\\mapaction-arc-py3\\lib\\site-packages (from aiohttp>=3.3.1->aiobotocore[boto3]>=1.0->odc-cloud[ASYNC]) (6.0.4)\n",
      "Requirement already satisfied: typing_extensions>=4.0 in c:\\users\\mapaction\\appdata\\local\\esri\\conda\\envs\\mapaction-arc-py3\\lib\\site-packages (from aioitertools>=0.5.1->aiobotocore[boto3]>=1.0->odc-cloud[ASYNC]) (4.1.1)\n"
     ]
    }
   ],
   "source": [
    "!pip install pystac-client odc-cloud[ASYNC]"
   ]
  },
  {
   "cell_type": "markdown",
   "metadata": {},
   "source": [
    "## Load libraries"
   ]
  },
  {
   "cell_type": "code",
   "execution_count": 11,
   "metadata": {},
   "outputs": [
    {
     "name": "stdout",
     "output_type": "stream",
     "text": [
      "Libraries loaded\n"
     ]
    }
   ],
   "source": [
    "from pystac_client import Client\n",
    "import pandas as pd\n",
    "import geopandas as gpd\n",
    "import matplotlib.pyplot as plt\n",
    "from pathlib import Path\n",
    "import odc.aws\n",
    "import os\n",
    "\n",
    "print ('Libraries loaded')"
   ]
  },
  {
   "cell_type": "markdown",
   "metadata": {},
   "source": [
    "## Process\n",
    "Set the unsigned variable to enable data download from Amazon S3"
   ]
  },
  {
   "cell_type": "code",
   "execution_count": null,
   "metadata": {},
   "outputs": [],
   "source": []
  }
 ],
 "metadata": {
  "kernelspec": {
   "display_name": "ArcGISPro",
   "language": "Python",
   "name": "python3"
  },
  "language_info": {
   "file_extension": ".py",
   "name": "python",
   "version": "3"
  }
 },
 "nbformat": 4,
 "nbformat_minor": 2
}
